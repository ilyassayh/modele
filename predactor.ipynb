{
  "cells": [
    {
      "cell_type": "code",
      "execution_count": null,
      "metadata": {
        "colab": {
          "base_uri": "https://localhost:8080/"
        },
        "id": "VXnDsH15II-3",
        "outputId": "d61a49e4-d0c6-489f-efbc-31729fbb62e6"
      },
      "outputs": [
        {
          "name": "stdout",
          "output_type": "stream",
          "text": [
            "Requirement already satisfied: pandas in /usr/local/lib/python3.11/dist-packages (2.2.2)\n",
            "Requirement already satisfied: numpy in /usr/local/lib/python3.11/dist-packages (1.26.4)\n",
            "Requirement already satisfied: scikit-learn in /usr/local/lib/python3.11/dist-packages (1.6.1)\n",
            "Requirement already satisfied: xgboost in /usr/local/lib/python3.11/dist-packages (2.1.4)\n",
            "Requirement already satisfied: python-dateutil>=2.8.2 in /usr/local/lib/python3.11/dist-packages (from pandas) (2.8.2)\n",
            "Requirement already satisfied: pytz>=2020.1 in /usr/local/lib/python3.11/dist-packages (from pandas) (2025.1)\n",
            "Requirement already satisfied: tzdata>=2022.7 in /usr/local/lib/python3.11/dist-packages (from pandas) (2025.1)\n",
            "Requirement already satisfied: scipy>=1.6.0 in /usr/local/lib/python3.11/dist-packages (from scikit-learn) (1.14.1)\n",
            "Requirement already satisfied: joblib>=1.2.0 in /usr/local/lib/python3.11/dist-packages (from scikit-learn) (1.4.2)\n",
            "Requirement already satisfied: threadpoolctl>=3.1.0 in /usr/local/lib/python3.11/dist-packages (from scikit-learn) (3.5.0)\n",
            "Requirement already satisfied: nvidia-nccl-cu12 in /usr/local/lib/python3.11/dist-packages (from xgboost) (2.21.5)\n",
            "Requirement already satisfied: six>=1.5 in /usr/local/lib/python3.11/dist-packages (from python-dateutil>=2.8.2->pandas) (1.17.0)\n",
            "Mean Absolute Error (MAE): 134.07\n",
            "Mean Squared Error (MSE): 51768.48\n",
            "Root Mean Squared Error (RMSE): 227.53\n",
            "R² Score: 0.97\n",
            "Predicted Damage Cost (MAD) for Pare-brise arriere with severity 2: 1459.44 MAD\n"
          ]
        }
      ],
      "source": [
        "# Comprehensive, error-free, and best-practice code ready to run in Google Colab\n",
        "\n",
        "# Step 1: Install necessary libraries\n",
        "!pip install pandas numpy scikit-learn xgboost\n",
        "\n",
        "# Step 2: Import necessary libraries\n",
        "import pandas as pd\n",
        "import numpy as np\n",
        "from sklearn.model_selection import train_test_split\n",
        "from sklearn.preprocessing import OneHotEncoder\n",
        "from sklearn.compose import ColumnTransformer\n",
        "from sklearn.metrics import mean_absolute_error, mean_squared_error, r2_score\n",
        "import xgboost as xgb\n",
        "\n",
        "# Load your dataset\n",
        "# df = pd.read_csv(\"your_dataset.csv\")  # Replace this line by uploading your dataset to Colab\n",
        "\n",
        "# Assuming dataset is already loaded as df\n",
        "\n",
        "# Feature selection\n",
        "features = ['Brand', 'Model', 'Year', 'Damaged_Part', 'Damage_Severity']\n",
        "target = 'Damage_Cost_MAD'\n",
        "\n",
        "# Split dataset into features and target\n",
        "X = df[features]\n",
        "y = df[target]\n",
        "\n",
        "# Train-test split\n",
        "X_train, X_test, y_train, y_test = train_test_split(X, y, test_size=0.2, random_state=42)\n",
        "\n",
        "# Preprocessing pipeline for categorical features\n",
        "categorical_features = ['Brand', 'Model', 'Damaged_Part']\n",
        "preprocessor = ColumnTransformer(\n",
        "    transformers=[('cat', OneHotEncoder(handle_unknown='ignore'), categorical_features)],\n",
        "    remainder='passthrough'\n",
        ")\n",
        "\n",
        "# Transform data\n",
        "X_train_encoded = preprocessor.fit_transform(X_train)\n",
        "X_test_encoded = preprocessor.transform(X_test)\n",
        "\n",
        "# Train an optimized XGBoost regressor\n",
        "model = xgb.XGBRegressor(\n",
        "    n_estimators=200,\n",
        "    max_depth=8,\n",
        "    learning_rate=0.1,\n",
        "    subsample=0.8,\n",
        "    colsample_bytree=0.8,\n",
        "    random_state=42\n",
        ")\n",
        "\n",
        "model.fit(X_train_encoded, y_train)\n",
        "\n",
        "# Make predictions\n",
        "y_pred = model.predict(X_test_encoded)\n",
        "\n",
        "# Evaluate model performance\n",
        "print(f\"Mean Absolute Error (MAE): {mean_absolute_error(y_test, y_pred):.2f}\")\n",
        "print(f\"Mean Squared Error (MSE): {mean_squared_error(y_test, y_pred):.2f}\")\n",
        "print(f\"Root Mean Squared Error (RMSE): {np.sqrt(mean_squared_error(y_test, y_pred)):.2f}\")\n",
        "print(f\"R² Score: {r2_score(y_test, y_pred):.2f}\")\n",
        "\n",
        "# Example prediction\n",
        "example_input = pd.DataFrame({\n",
        "    'Brand': ['Peugeot'],\n",
        "    'Model': ['208'],\n",
        "    'Year': [2019],\n",
        "    'Damaged_Part': ['Pare-brise arriere'],\n",
        "    'Damage_Severity': [2]\n",
        "})\n",
        "\n",
        "example_input_encoded = preprocessor.transform(example_input)\n",
        "example_pred = model.predict(example_input_encoded)\n",
        "\n",
        "print(f\"Predicted Damage Cost (MAD) for {example_input['Damaged_Part'].values[0]} with severity {example_input['Damage_Severity'].iloc[0]}: {example_pred[0]:.2f} MAD\")\n"
      ]
    },
    {
      "cell_type": "code",
      "execution_count": 20,
      "metadata": {
        "colab": {
          "base_uri": "https://localhost:8080/"
        },
        "id": "hTbJtEYfLBcs",
        "outputId": "ac390f30-10df-45d9-cc4d-214f1126a65b"
      },
      "outputs": [
        {
          "name": "stdout",
          "output_type": "stream",
          "text": [
            "\n",
            "XGBoost Performance:\n",
            "MAE: 134.07\n",
            "RMSE: 227.53\n",
            "R²: 0.9740\n",
            "\n",
            "Random Forest Performance:\n",
            "MAE: 174.05\n",
            "RMSE: 286.06\n",
            "R²: 0.9589\n",
            "\n",
            "Gradient Boosting Performance:\n",
            "MAE: 132.24\n",
            "RMSE: 226.71\n",
            "R²: 0.9742\n"
          ]
        }
      ],
      "source": [
        "# Import libraries\n",
        "from sklearn.ensemble import RandomForestRegressor, GradientBoostingRegressor\n",
        "from sklearn.metrics import mean_absolute_error, mean_squared_error, r2_score\n",
        "\n",
        "# Random Forest model\n",
        "rf_model = RandomForestRegressor(n_estimators=200, max_depth=10, random_state=42)\n",
        "rf_model.fit(X_train_encoded, y_train)\n",
        "rf_pred = rf_model.predict(X_test_encoded)\n",
        "\n",
        "# Gradient Boosting model\n",
        "gb_model = GradientBoostingRegressor(n_estimators=200, max_depth=6, learning_rate=0.1, random_state=42)\n",
        "gb_model.fit(X_train_encoded, y_train)\n",
        "gb_pred = gb_model.predict(X_test_encoded)\n",
        "\n",
        "# Function to evaluate and display performance\n",
        "def evaluate_model(name, y_true, y_pred):\n",
        "    print(f\"\\n{name} Performance:\")\n",
        "    print(f\"MAE: {mean_absolute_error(y_true, y_pred):.2f}\")\n",
        "    print(f\"RMSE: {np.sqrt(mean_squared_error(y_true, y_pred)):.2f}\")\n",
        "    print(f\"R²: {r2_score(y_true, y_pred):.4f}\")\n",
        "\n",
        "# Evaluate all three models\n",
        "evaluate_model(\"XGBoost\", y_test, y_pred)\n",
        "evaluate_model(\"Random Forest\", y_test, rf_pred)\n",
        "evaluate_model(\"Gradient Boosting\", y_test, gb_pred)\n"
      ]
    },
    {
      "cell_type": "code",
      "execution_count": 22,
      "metadata": {
        "colab": {
          "base_uri": "https://localhost:8080/"
        },
        "id": "K4HLzD7-LqfH",
        "outputId": "0509e5f9-bb15-48c2-cd7c-11749430fd6d"
      },
      "outputs": [
        {
          "name": "stdout",
          "output_type": "stream",
          "text": [
            "Requirement already satisfied: scikit-learn in /usr/local/lib/python3.11/dist-packages (1.6.1)\n",
            "Requirement already satisfied: numpy in /usr/local/lib/python3.11/dist-packages (1.26.4)\n",
            "Requirement already satisfied: pandas in /usr/local/lib/python3.11/dist-packages (2.2.2)\n",
            "Requirement already satisfied: scipy>=1.6.0 in /usr/local/lib/python3.11/dist-packages (from scikit-learn) (1.14.1)\n",
            "Requirement already satisfied: joblib>=1.2.0 in /usr/local/lib/python3.11/dist-packages (from scikit-learn) (1.4.2)\n",
            "Requirement already satisfied: threadpoolctl>=3.1.0 in /usr/local/lib/python3.11/dist-packages (from scikit-learn) (3.5.0)\n",
            "Requirement already satisfied: python-dateutil>=2.8.2 in /usr/local/lib/python3.11/dist-packages (from pandas) (2.8.2)\n",
            "Requirement already satisfied: pytz>=2020.1 in /usr/local/lib/python3.11/dist-packages (from pandas) (2025.1)\n",
            "Requirement already satisfied: tzdata>=2022.7 in /usr/local/lib/python3.11/dist-packages (from pandas) (2025.1)\n",
            "Requirement already satisfied: six>=1.5 in /usr/local/lib/python3.11/dist-packages (from python-dateutil>=2.8.2->pandas) (1.17.0)\n",
            "Fitting 5 folds for each of 54 candidates, totalling 270 fits\n",
            "Best parameters found: {'learning_rate': 0.05, 'max_depth': 6, 'n_estimators': 200, 'subsample': 0.8}\n",
            "\n",
            "Optimized Gradient Boosting Performance:\n",
            "MAE: 128.91\n",
            "RMSE: 219.93\n",
            "R²: 0.9757\n"
          ]
        }
      ],
      "source": [
        "# Install packages if necessary\n",
        "!pip install scikit-learn numpy pandas\n",
        "\n",
        "# Import libraries\n",
        "import numpy as np\n",
        "from sklearn.ensemble import GradientBoostingRegressor\n",
        "from sklearn.model_selection import GridSearchCV\n",
        "from sklearn.metrics import mean_absolute_error, mean_squared_error, r2_score\n",
        "\n",
        "# Define hyperparameters grid\n",
        "param_grid = {\n",
        "    'n_estimators': [100, 200, 300],\n",
        "    'learning_rate': [0.05, 0.1, 0.2],\n",
        "    'max_depth': [4, 6, 8],\n",
        "    'subsample': [0.8, 1.0],\n",
        "}\n",
        "\n",
        "# Initialize Gradient Boosting Regressor\n",
        "gb_model = GradientBoostingRegressor(random_state=42)\n",
        "\n",
        "# Set up GridSearchCV\n",
        "grid_search = GridSearchCV(estimator=gb_model,\n",
        "                           param_grid=param_grid,\n",
        "                           cv=5,\n",
        "                           scoring='neg_mean_absolute_error',\n",
        "                           n_jobs=-1,\n",
        "                           verbose=2)\n",
        "\n",
        "# Fit GridSearchCV\n",
        "grid_search.fit(X_train_encoded, y_train)\n",
        "\n",
        "# Best parameters and estimator\n",
        "print(\"Best parameters found:\", grid_search.best_params_)\n",
        "best_model = grid_search.best_estimator_\n",
        "\n",
        "# Evaluate on test data\n",
        "y_pred = best_model.predict(X_test_encoded)\n",
        "mae = mean_absolute_error(y_test, y_pred)\n",
        "rmse = np.sqrt(mean_squared_error(y_test, y_pred))\n",
        "r2 = r2_score(y_test, y_pred)\n",
        "\n",
        "print(\"\\nOptimized Gradient Boosting Performance:\")\n",
        "print(f\"MAE: {mean_absolute_error(y_test, best_model.predict(X_test_encoded)):.2f}\")\n",
        "print(f\"RMSE: {np.sqrt(mean_squared_error(y_test, best_model.predict(X_test_encoded))):.2f}\")\n",
        "print(f\"R²: {r2_score(y_test, best_model.predict(X_test_encoded)):.4f}\")\n"
      ]
    },
    {
      "cell_type": "code",
      "execution_count": null,
      "metadata": {
        "id": "iHqAN_OxQt0l"
      },
      "outputs": [],
      "source": [
        "import joblib\n",
        "\n",
        "# Save the trained model and preprocessor\n",
        "joblib.dump(best_model, 'gradient_boosting_model.pkl')\n",
        "joblib.dump(preprocessor, 'preprocessor.pkl')\n",
        "\n",
        "print(\"✅ Model and preprocessor saved successfully!\")\n"
      ]
    },
    {
      "cell_type": "code",
      "execution_count": 24,
      "metadata": {
        "colab": {
          "base_uri": "https://localhost:8080/"
        },
        "id": "k03j3H7BQv7S",
        "outputId": "ade6027c-a41c-431d-d9c9-f699acb110ab"
      },
      "outputs": [
        {
          "name": "stdout",
          "output_type": "stream",
          "text": [
            "✅ Model and preprocessor loaded successfully!\n"
          ]
        }
      ],
      "source": [
        "import joblib\n",
        "\n",
        "# Load the trained model and preprocessor\n",
        "best_model = joblib.load('gradient_boosting_model.pkl')\n",
        "preprocessor = joblib.load('preprocessor.pkl')\n",
        "\n",
        "print(\"✅ Model and preprocessor loaded successfully!\")\n"
      ]
    },
    {
      "cell_type": "code",
      "execution_count": 29,
      "metadata": {
        "colab": {
          "base_uri": "https://localhost:8080/"
        },
        "id": "Id4bl8JBQyZQ",
        "outputId": "f802d5f1-6668-4e42-ef43-7eaefed886f8"
      },
      "outputs": [
        {
          "name": "stdout",
          "output_type": "stream",
          "text": [
            "🔹 Predicted Repair Cost for Mercedes C-Class (Malle, Severity 1): 993.28 MAD\n"
          ]
        }
      ],
      "source": [
        "import pandas as pd\n",
        "\n",
        "# Example: Custom input case\n",
        "custom_test_case = pd.DataFrame([\n",
        "    {'Brand': 'Mercedes', 'Model': 'C-Class', 'Year': 2018, 'Damaged_Part': 'Malle', 'Damage_Severity': 1}\n",
        "])\n",
        "\n",
        "# Encode input\n",
        "custom_test_encoded = preprocessor.transform(custom_test_case)\n",
        "\n",
        "# Predict cost\n",
        "predicted_cost = best_model.predict(custom_test_encoded)\n",
        "\n",
        "# Display result\n",
        "print(f\"🔹 Predicted Repair Cost for {custom_test_case['Brand'].values[0]} {custom_test_case['Model'].values[0]} ({custom_test_case['Damaged_Part'].values[0]}, Severity {custom_test_case['Damage_Severity'].values[0]}): {predicted_cost[0]:.2f} MAD\")\n"
      ]
    },
    {
      "cell_type": "code",
      "execution_count": 30,
      "metadata": {
        "colab": {
          "base_uri": "https://localhost:8080/"
        },
        "id": "gAGXFNRFRJAf",
        "outputId": "ff7bcabc-2cc0-4fff-c0f8-1e3e4bebfc3b"
      },
      "outputs": [
        {
          "name": "stdout",
          "output_type": "stream",
          "text": [
            "🚗 Dacia Logan (2016)\n",
            "   🔹 Damaged Part: Pare-brise arriere\n",
            "   🔹 Severity Level: 2\n",
            "   🔹 Predicted Repair Cost: 979.29 MAD\n",
            "\n",
            "🚗 Peugeot 208 (2020)\n",
            "   🔹 Damaged Part: Porte arriere gauche\n",
            "   🔹 Severity Level: 3\n",
            "   🔹 Predicted Repair Cost: 2677.68 MAD\n",
            "\n",
            "🚗 Renault Clio (2015)\n",
            "   🔹 Damaged Part: Aile arriere droit\n",
            "   🔹 Severity Level: 1\n",
            "   🔹 Predicted Repair Cost: 430.30 MAD\n",
            "\n",
            "🚗 Toyota Corolla (2019)\n",
            "   🔹 Damaged Part: Pare-choc arriere\n",
            "   🔹 Severity Level: 3\n",
            "   🔹 Predicted Repair Cost: 3682.97 MAD\n",
            "\n",
            "🚗 Volkswagen Golf (2018)\n",
            "   🔹 Damaged Part: Feu arriere gauche\n",
            "   🔹 Severity Level: 2\n",
            "   🔹 Predicted Repair Cost: 1049.92 MAD\n",
            "\n",
            "🚗 Ford Fiesta (2017)\n",
            "   🔹 Damaged Part: Malle\n",
            "   🔹 Severity Level: 1\n",
            "   🔹 Predicted Repair Cost: 563.91 MAD\n",
            "\n",
            "🚗 Mercedes E-Class (2021)\n",
            "   🔹 Damaged Part: Plaque immatriculation arriere\n",
            "   🔹 Severity Level: 3\n",
            "   🔹 Predicted Repair Cost: 2046.82 MAD\n",
            "\n",
            "🚗 BMW Series 3 (2022)\n",
            "   🔹 Damaged Part: Porte arriere gauche\n",
            "   🔹 Severity Level: 2\n",
            "   🔹 Predicted Repair Cost: 2692.89 MAD\n",
            "\n",
            "🚗 Hyundai Tucson (2020)\n",
            "   🔹 Damaged Part: Aile arriere gauche\n",
            "   🔹 Severity Level: 1\n",
            "   🔹 Predicted Repair Cost: 442.34 MAD\n",
            "\n",
            "🚗 Fiat Tipo (2015)\n",
            "   🔹 Damaged Part: Feu arriere droit\n",
            "   🔹 Severity Level: 3\n",
            "   🔹 Predicted Repair Cost: 1429.00 MAD\n",
            "\n"
          ]
        }
      ],
      "source": [
        "# Define multiple test cases to check model predictions\n",
        "test_cases = pd.DataFrame([\n",
        "    {'Brand': 'Dacia', 'Model': 'Logan', 'Year': 2016, 'Damaged_Part': 'Pare-brise arriere', 'Damage_Severity': 2},\n",
        "    {'Brand': 'Peugeot', 'Model': '208', 'Year': 2020, 'Damaged_Part': 'Porte arriere gauche', 'Damage_Severity': 3},\n",
        "    {'Brand': 'Renault', 'Model': 'Clio', 'Year': 2015, 'Damaged_Part': 'Aile arriere droit', 'Damage_Severity': 1},\n",
        "    {'Brand': 'Toyota', 'Model': 'Corolla', 'Year': 2019, 'Damaged_Part': 'Pare-choc arriere', 'Damage_Severity': 3},\n",
        "    {'Brand': 'Volkswagen', 'Model': 'Golf', 'Year': 2018, 'Damaged_Part': 'Feu arriere gauche', 'Damage_Severity': 2},\n",
        "    {'Brand': 'Ford', 'Model': 'Fiesta', 'Year': 2017, 'Damaged_Part': 'Malle', 'Damage_Severity': 1},\n",
        "    {'Brand': 'Mercedes', 'Model': 'E-Class', 'Year': 2021, 'Damaged_Part': 'Plaque immatriculation arriere', 'Damage_Severity': 3},\n",
        "    {'Brand': 'BMW', 'Model': 'Series 3', 'Year': 2022, 'Damaged_Part': 'Porte arriere gauche', 'Damage_Severity': 2},\n",
        "    {'Brand': 'Hyundai', 'Model': 'Tucson', 'Year': 2020, 'Damaged_Part': 'Aile arriere gauche', 'Damage_Severity': 1},\n",
        "    {'Brand': 'Fiat', 'Model': 'Tipo', 'Year': 2015, 'Damaged_Part': 'Feu arriere droit', 'Damage_Severity': 3}\n",
        "])\n",
        "\n",
        "# Encode input data\n",
        "test_cases_encoded = preprocessor.transform(test_cases)\n",
        "\n",
        "# Predict costs\n",
        "predicted_costs = best_model.predict(test_cases_encoded)\n",
        "\n",
        "# Add predictions to test cases\n",
        "test_cases['Predicted_Damage_Cost_MAD'] = predicted_costs\n",
        "\n",
        "# Display results\n",
        "for i in range(len(test_cases)):\n",
        "    print(f\"🚗 {test_cases.iloc[i]['Brand']} {test_cases.iloc[i]['Model']} ({test_cases.iloc[i]['Year']})\")\n",
        "    print(f\"   🔹 Damaged Part: {test_cases.iloc[i]['Damaged_Part']}\")\n",
        "    print(f\"   🔹 Severity Level: {test_cases.iloc[i]['Damage_Severity']}\")\n",
        "    print(f\"   🔹 Predicted Repair Cost: {test_cases.iloc[i]['Predicted_Damage_Cost_MAD']:.2f} MAD\\n\")\n"
      ]
    }
  ],
  "metadata": {
    "accelerator": "GPU",
    "colab": {
      "gpuType": "T4",
      "provenance": []
    },
    "kernelspec": {
      "display_name": "Python 3",
      "name": "python3"
    },
    "language_info": {
      "name": "python"
    }
  },
  "nbformat": 4,
  "nbformat_minor": 0
}
